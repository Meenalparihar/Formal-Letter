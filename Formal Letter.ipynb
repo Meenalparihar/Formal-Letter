{
 "cells": [
  {
   "cell_type": "code",
   "execution_count": null,
   "id": "f9426c19",
   "metadata": {},
   "outputs": [],
   "source": [
    "Ttag=(\"\\t\\t\\t\\t\\t\\t\\t\\t\\t\\t\\t\\t\\t\")\n",
    "Mtag=(\"\\t\\t\\t\\t\\t\\t\")\n",
    "SenderAddress=input(\"Enter sender address:\")\n",
    "SenderAddresscity=input(\"Enter sender address city:\")\n",
    "SenderAddressstate=input(\"Enter sender address state:\")\n",
    "Date=input(\"Enter date of writing the letter:\")\n",
    "Designation=input(\"enter designation:\")\n",
    "RecipientAddress=input(\"enter Recipient address:\")\n",
    "RecipientAddressstate=input(\"enter Recipient address state:\")\n",
    "RecipientAddresspincode=input(\"enter Recipient address pincode:\")\n",
    "Subject=input(\"enter subject:\")\n",
    "salutation=input(\"enter greetings:\")\n",
    "bodyoftheletter1=input(\"reason to write the letter:\")\n",
    "bodyoftheletter2=input(\"requesting:\")\n",
    "bodyoftheletter3=input(\"conclusion:\")\n",
    "complimentryclosing=input(\"enter complimentry closing:\")\n",
    "sendername=input(\"enter your name:\")\n",
    "print(Mtag,\"Formal letter\")\n",
    "print(\"\\n\\n\",SenderAddress,\"\\n\",SenderAddresscity,\"\\n\",SenderAddressstate)\n",
    "print(\"\\n\\n\",Date)\n",
    "print(\"\\n\\n\",\"To\",\"\\n\",\"The\",Designation,\"\\n\",RecipientAddress,\"\\n\",RecipientAddressstate,\"\\n\",RecipientAddresspincode)\n",
    "print(\"\\n\",\"Subject:\",Subject)\n",
    "print(\"\\n\",salutation)\n",
    "print(\"\\n\\n\",bodyoftheletter1,\"\\n\",bodyoftheletter2,\"\\n\",bodyoftheletter3)\n",
    "print(\"\\n\",complimentryclosing)\n",
    "print(\"\\n\",\"Signature:\")\n",
    "print(\"\\n\",sendername)"
   ]
  }
 ],
 "metadata": {
  "kernelspec": {
   "display_name": "Python 3 (ipykernel)",
   "language": "python",
   "name": "python3"
  },
  "language_info": {
   "codemirror_mode": {
    "name": "ipython",
    "version": 3
   },
   "file_extension": ".py",
   "mimetype": "text/x-python",
   "name": "python",
   "nbconvert_exporter": "python",
   "pygments_lexer": "ipython3",
   "version": "3.11.4"
  }
 },
 "nbformat": 4,
 "nbformat_minor": 5
}
